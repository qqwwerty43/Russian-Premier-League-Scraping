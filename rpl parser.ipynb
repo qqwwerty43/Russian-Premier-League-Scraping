{
  "nbformat": 4,
  "nbformat_minor": 0,
  "metadata": {
    "colab": {
      "provenance": []
    },
    "kernelspec": {
      "name": "python3",
      "display_name": "Python 3"
    },
    "language_info": {
      "name": "python"
    }
  },
  "cells": [
    {
      "cell_type": "code",
      "execution_count": 61,
      "metadata": {
        "id": "T5nt5oUwDbYd"
      },
      "outputs": [],
      "source": [
        "import requests\n",
        "from bs4 import BeautifulSoup"
      ]
    },
    {
      "cell_type": "code",
      "source": [
        "url = 'https://premierliga.ru/'\n",
        "req = requests.get(url)"
      ],
      "metadata": {
        "id": "mR0VI2wPEAna"
      },
      "execution_count": 62,
      "outputs": []
    },
    {
      "cell_type": "code",
      "source": [
        "soup = BeautifulSoup(req.text,'lxml')"
      ],
      "metadata": {
        "id": "IjQQuAWvEOnx"
      },
      "execution_count": 63,
      "outputs": []
    },
    {
      "cell_type": "code",
      "source": [
        "club = []\n",
        "club_link = []\n",
        "for clubs_link in soup.find('div', class_='rpl-clubs').findAll('a'):\n",
        "  club_link.append(url + clubs_link.get('href')[1:])\n",
        "  club.append(clubs_link.get('href')[17:])\n",
        "print(club)\n",
        "\n"
      ],
      "metadata": {
        "colab": {
          "base_uri": "https://localhost:8080/"
        },
        "id": "V-86vtPsH7Gz",
        "outputId": "7e215178-2510-45f7-ae40-cb0b9303e13a"
      },
      "execution_count": 64,
      "outputs": [
        {
          "output_type": "stream",
          "name": "stdout",
          "text": [
            "['zenit', 'pfc-cska', 'spartak', 'rostov', 'akhmat', 'krasnodar', 'orenburg', 'lokomotiv', 'dinamo', 'sochi', 'ural', 'kr-sovetov', 'n-novgorod', 'fakel', 'rubin', 'baltika']\n"
          ]
        }
      ]
    },
    {
      "cell_type": "code",
      "source": [
        "url_tt = 'https://premierliga.ru/tournament-table/'\n",
        "req2 = requests.get(url_tt)\n",
        "soup = BeautifulSoup(req2.text,'lxml')\n"
      ],
      "metadata": {
        "id": "lWB0b5x2KrtC"
      },
      "execution_count": 65,
      "outputs": []
    },
    {
      "cell_type": "code",
      "source": [
        "place = []\n",
        "team = []\n",
        "team_link = []\n",
        "matches = []\n",
        "win = []\n",
        "draw = []\n",
        "lose = []\n",
        "gs = []\n",
        "gc = []\n",
        "gd = []\n",
        "points = []\n",
        "matchHOME = []\n",
        "winHOME = []\n",
        "drawHOME = []\n",
        "loseHOME = []\n",
        "gsHOME = []\n",
        "gcHOME = []\n",
        "gdHOME = []\n",
        "pointsHOME = []\n",
        "matchAWAY = []\n",
        "winAWAY = []\n",
        "drawAWAY = []\n",
        "loseAWAY = []\n",
        "gsAWAY = []\n",
        "gcAWAY = []\n",
        "gdAWAY = []\n",
        "pointsAWAY = []\n",
        "data = []\n",
        "for i in range(1, 17):\n",
        "  place = int(soup.find('div', class_='stats-tournament-table').find('tr', class_=f's{i}').find('td', class_='place').text.strip())\n",
        "  team = soup.find('div', class_='stats-tournament-table').find('tr', class_=f's{i}').find('td', class_='club').get_text().strip() #ru language\n",
        "  # team = club[i-1]\n",
        "  team_link = url + soup.find('div', class_='stats-tournament-table').find('tr', class_=f's{i}').find('td', class_='club').find('a').get('href')[1:]\n",
        "  temp = []\n",
        "  for d_b_coder in soup.find('div', class_='stats-tournament-table').find('tr', class_=f's{i}').findAll('td', class_='dark-blue num'):\n",
        "    temp.append(int(d_b_coder.text.strip())) # [15, 9, 5, 1, 32]\n",
        "  matches = temp[0]\n",
        "  win = temp[1]\n",
        "  draw = temp[2]\n",
        "  lose = temp[3]\n",
        "  points = temp[4]\n",
        "  gs = int(soup.find('div', class_='stats-tournament-table').find('tr', class_=f's{i}').find('td', class_='dark-blue goals').find('span', class_='green').text.strip())\n",
        "  gc = int(soup.find('div', class_='stats-tournament-table').find('tr', class_=f's{i}').find('td', class_='dark-blue goals').find('span', class_='red').text.strip())\n",
        "  gd = gs-gc\n",
        "  temp = []\n",
        "  for b_coder in soup.find('div', class_='stats-tournament-table').find('tr', class_=f's{i}').findAll('td', class_='blue num'):\n",
        "    temp.append(int(b_coder.text.strip())) # [6, 1, 0, 3, 4, 1]\n",
        "  winHOME = temp[0]\n",
        "  drawHOME = temp[1]\n",
        "  loseHOME = temp[2]\n",
        "  matchHOME = winHOME + drawHOME + loseHOME\n",
        "  pointsHOME = temp[0] * 3 + temp[1]\n",
        "  winAWAY = temp[3]\n",
        "  drawAWAY = temp[4]\n",
        "  loseAWAY = temp[5]\n",
        "  matchAWAY = winAWAY + drawAWAY + loseAWAY\n",
        "  pointsAWAY = temp[3] * 3 + temp[4]\n",
        "  temp = []\n",
        "  for b_coder in soup.find('div', class_='stats-tournament-table').find('tr', class_=f's{i}').findAll('td', class_='blue goals'):\n",
        "    temp.append(int(b_coder.find('span', class_='green').text.strip()))\n",
        "    temp.append(int(b_coder.find('span', class_='red').text.strip())) #[13, 4, 11, 6]\n",
        "  gsHOME = temp[0]\n",
        "  gcHOME = temp[1]\n",
        "  gdHOME = gsHOME - gcHOME\n",
        "  gsAWAY = temp[2]\n",
        "  gcAWAY = temp[3]\n",
        "  gdAWAY = gsAWAY-gcAWAY\n",
        "  data.append([place, team, team_link, matches, win, draw, lose, gs, gc,\n",
        "               gd, points, matchHOME, winHOME, drawHOME, loseHOME, gsHOME, gcHOME,\n",
        "               gdHOME, pointsHOME, matchAWAY, winAWAY, drawAWAY, loseAWAY, gsAWAY, gcAWAY, gdAWAY, pointsAWAY])"
      ],
      "metadata": {
        "id": "KVvkGgFsPWUJ"
      },
      "execution_count": 66,
      "outputs": []
    },
    {
      "cell_type": "code",
      "source": [
        "for rows in data:\n",
        "  print(rows)"
      ],
      "metadata": {
        "colab": {
          "base_uri": "https://localhost:8080/"
        },
        "id": "DbbXTTrz6oQo",
        "outputId": "153c6b0d-dec1-4d09-d8a7-9b665d5bbede"
      },
      "execution_count": 67,
      "outputs": [
        {
          "output_type": "stream",
          "name": "stdout",
          "text": [
            "[1, 'Краснодар', 'https://premierliga.ru/about-rpl/clubs/krasnodar', 15, 9, 5, 1, 24, 10, 14, 32, 7, 6, 1, 0, 13, 4, 9, 19, 8, 3, 4, 1, 11, 6, 5, 13]\n",
            "[2, 'Зенит', 'https://premierliga.ru/about-rpl/clubs/zenit', 15, 9, 3, 3, 30, 14, 16, 30, 7, 4, 1, 2, 15, 8, 7, 13, 8, 5, 2, 1, 15, 6, 9, 17]\n",
            "[3, 'Динамо', 'https://premierliga.ru/about-rpl/clubs/dinamo', 15, 6, 7, 2, 24, 19, 5, 25, 7, 4, 2, 1, 10, 6, 4, 14, 8, 2, 5, 1, 14, 13, 1, 11]\n",
            "[4, 'Крылья Советов', 'https://premierliga.ru/about-rpl/clubs/kr-sovetov', 15, 7, 4, 4, 31, 21, 10, 25, 8, 6, 2, 0, 23, 8, 15, 20, 7, 1, 2, 4, 8, 13, -5, 5]\n",
            "[5, 'ПФК ЦСКА', 'https://premierliga.ru/about-rpl/clubs/pfc-cska', 15, 6, 7, 2, 27, 20, 7, 25, 7, 5, 2, 0, 15, 7, 8, 17, 8, 1, 5, 2, 12, 13, -1, 8]\n",
            "[6, 'Спартак-Москва', 'https://premierliga.ru/about-rpl/clubs/spartak', 15, 7, 3, 5, 21, 22, -1, 24, 9, 6, 2, 1, 14, 9, 5, 20, 6, 1, 1, 4, 7, 13, -6, 4]\n",
            "[7, 'Локомотив', 'https://premierliga.ru/about-rpl/clubs/lokomotiv', 15, 6, 6, 3, 21, 19, 2, 24, 8, 3, 4, 1, 10, 9, 1, 13, 7, 3, 2, 2, 11, 10, 1, 11]\n",
            "[8, 'Рубин', 'https://premierliga.ru/about-rpl/clubs/rubin', 15, 6, 4, 5, 15, 20, -5, 22, 8, 2, 3, 3, 7, 13, -6, 9, 7, 4, 1, 2, 8, 7, 1, 13]\n",
            "[9, 'Пари НН', 'https://premierliga.ru/about-rpl/clubs/n-novgorod', 15, 6, 3, 6, 14, 14, 0, 21, 8, 6, 1, 1, 11, 4, 7, 19, 7, 0, 2, 5, 3, 10, -7, 2]\n",
            "[10, 'Факел', 'https://premierliga.ru/about-rpl/clubs/fakel', 15, 5, 4, 6, 14, 17, -3, 19, 7, 3, 2, 2, 8, 6, 2, 11, 8, 2, 2, 4, 6, 11, -5, 8]\n",
            "[11, 'Ростов', 'https://premierliga.ru/about-rpl/clubs/rostov', 15, 4, 5, 6, 23, 27, -4, 17, 8, 4, 3, 1, 16, 9, 7, 15, 7, 0, 2, 5, 7, 18, -11, 2]\n",
            "[12, 'Урал', 'https://premierliga.ru/about-rpl/clubs/ural', 15, 4, 4, 7, 15, 24, -9, 16, 8, 2, 3, 3, 8, 11, -3, 9, 7, 2, 1, 4, 7, 13, -6, 7]\n",
            "[13, 'Оренбург', 'https://premierliga.ru/about-rpl/clubs/orenburg', 15, 3, 4, 8, 16, 24, -8, 13, 7, 2, 2, 3, 9, 9, 0, 8, 8, 1, 2, 5, 7, 15, -8, 5]\n",
            "[14, 'Балтика', 'https://premierliga.ru/about-rpl/clubs/baltika', 15, 3, 3, 9, 12, 21, -9, 12, 7, 3, 2, 2, 8, 8, 0, 11, 8, 0, 1, 7, 4, 13, -9, 1]\n",
            "[15, 'Ахмат', 'https://premierliga.ru/about-rpl/clubs/akhmat', 15, 3, 3, 9, 15, 21, -6, 12, 7, 1, 2, 4, 10, 10, 0, 5, 8, 2, 1, 5, 5, 11, -6, 7]\n",
            "[16, 'Сочи', 'https://premierliga.ru/about-rpl/clubs/sochi', 15, 3, 1, 11, 16, 25, -9, 10, 7, 2, 1, 4, 10, 10, 0, 7, 8, 1, 0, 7, 6, 15, -9, 3]\n"
          ]
        }
      ]
    },
    {
      "cell_type": "code",
      "source": [
        "header = ['place', 'team', 'team_link', 'matches', 'win', 'draw', 'lose', 'goal scored', 'goal conceded', 'goal difference', 'points', 'matches home', 'win home', 'draw home', 'lose home',\n",
        "          'goal scored home', 'goal conceded home', 'goal difference home', 'points home', 'matches away', 'win away', 'draw away', 'lose away', 'goal scored away', 'goal conceded away', 'goal difference away', 'points away']"
      ],
      "metadata": {
        "id": "uvUf6B7wyjNW"
      },
      "execution_count": 68,
      "outputs": []
    },
    {
      "cell_type": "code",
      "source": [
        "len(header)"
      ],
      "metadata": {
        "colab": {
          "base_uri": "https://localhost:8080/"
        },
        "id": "j1MRgvHo4IpH",
        "outputId": "3f5b4acf-2f21-4e55-b1ae-7790a9345040"
      },
      "execution_count": 69,
      "outputs": [
        {
          "output_type": "execute_result",
          "data": {
            "text/plain": [
              "27"
            ]
          },
          "metadata": {},
          "execution_count": 69
        }
      ]
    },
    {
      "cell_type": "code",
      "source": [
        "import pandas as pd\n",
        "df = pd.DataFrame(data, columns=header)\n",
        "df.to_csv('/rpl.csv', sep=';', encoding='utf-16')"
      ],
      "metadata": {
        "id": "KaZUacPf2KSn"
      },
      "execution_count": 74,
      "outputs": []
    }
  ]
}